{
  "nbformat": 4,
  "nbformat_minor": 0,
  "metadata": {
    "colab": {
      "name": "Untitled0.ipynb",
      "provenance": [],
      "collapsed_sections": []
    },
    "kernelspec": {
      "name": "python3",
      "display_name": "Python 3"
    }
  },
  "cells": [
    {
      "cell_type": "markdown",
      "metadata": {
        "id": "uebygHGTggj7",
        "colab_type": "text"
      },
      "source": [
        "# DOTA WINNER PREDICTOR\n"
      ]
    },
    {
      "cell_type": "markdown",
      "metadata": {
        "id": "0mjr_J8hgwYg",
        "colab_type": "text"
      },
      "source": [
        "#Abstract: \n",
        "\n",
        "Dota 2 is a popular computer game with two teams of 5 players. At the start of the game each player chooses a unique hero with different strengths and weaknesses.\n",
        "\n"
      ]
    },
    {
      "cell_type": "markdown",
      "metadata": {
        "id": "miY6C-ihg9i1",
        "colab_type": "text"
      },
      "source": [
        "#Objective/Problem Statement : -\n",
        "\n",
        "Create a Machine Learning application which predicts the winner based on the given attributes and the hero chosen by the team. \n"
      ]
    },
    {
      "cell_type": "markdown",
      "metadata": {
        "id": "YijY6sEihFIP",
        "colab_type": "text"
      },
      "source": [
        "#Data Set Information:\n",
        "\n",
        "Dota 2 is a popular computer game with two teams of 5 players. At the start of the game each player chooses a unique hero with different strengths and weaknesses. The dataset is reasonably sparse as only 10 of 113 possible heroes are chosen in a given game. All games were played in a space of 2 hours on the 13th of August, 2016\n",
        "\n",
        "The data was collected using: https://gist.github.com/da-steve101/1a7ae319448db431715bd75391a66e1b\n"
      ]
    },
    {
      "cell_type": "markdown",
      "metadata": {
        "id": "G6suM3ZUhWwz",
        "colab_type": "text"
      },
      "source": [
        "\n",
        "#Attribute Information:\n",
        "\n",
        "Each row of the dataset is a single game with the following features (in the order in the vector):\n",
        "1. Team won the game (1 or -1)\n",
        "2. Cluster ID (related to location)\n",
        "3. Game mode (eg All Pick)\n",
        "4. Game type (eg. Ranked)\n",
        "5 - end: Each element is an indicator for a hero. Value of 1 indicates that a player from team '1' played as that hero and '-1' for the other team. Hero can be selected by only one player each game. This means that each row has five '1' and five '-1' values.\n",
        "\n",
        "The hero to id mapping can be found here: https://github.com/kronusme/dota2-api/blob/master/data/heroes.json\n"
      ]
    },
    {
      "cell_type": "code",
      "metadata": {
        "id": "qjMJdcTeglB8",
        "colab_type": "code",
        "colab": {}
      },
      "source": [
        "import pandas as pd\n",
        "import pandas as pd\n",
        "import seaborn as sns\n",
        "import numpy as np # linear algebra\n",
        "import pandas as pd # data processing, CSV file I/O (e.g. pd.read_csv)\n",
        "import tensorflow as tf\n",
        "import matplotlib.pyplot as plt\n",
        "import seaborn as sns\n",
        "from sklearn.manifold import TSNE\n",
        "from sklearn.decomposition import PCA, TruncatedSVD\n",
        "import matplotlib.patches as mpatches\n",
        "import time\n",
        "\n",
        "# Classifier Libraries\n",
        "from sklearn.linear_model import LogisticRegression\n",
        "from sklearn.svm import SVC\n",
        "from sklearn.neighbors import KNeighborsClassifier\n",
        "from sklearn.tree import DecisionTreeClassifier\n",
        "from sklearn.ensemble import RandomForestClassifier\n",
        "import collections\n",
        "\n",
        "from sklearn.model_selection import train_test_split\n",
        "from sklearn.pipeline import make_pipeline\n",
        "from imblearn.pipeline import make_pipeline as imbalanced_make_pipeline\n",
        "from imblearn.over_sampling import SMOTE\n",
        "from imblearn.under_sampling import NearMiss\n",
        "from imblearn.metrics import classification_report_imbalanced\n",
        "from sklearn.metrics import precision_score, recall_score, f1_score, roc_auc_score, accuracy_score, classification_report\n",
        "from collections import Counter\n",
        "from sklearn.model_selection import KFold, StratifiedKFold\n",
        "import warnings\n",
        "warnings.filterwarnings(\"ignore\")"
      ],
      "execution_count": 0,
      "outputs": []
    },
    {
      "cell_type": "code",
      "metadata": {
        "id": "xvqm4biu0Ini",
        "colab_type": "code",
        "colab": {}
      },
      "source": [
        "df=pd.read_csv(\"/content/drive/My Drive/Colab Notebooks/Dota/dota2Dataset/dota2Train.csv\")"
      ],
      "execution_count": 0,
      "outputs": []
    },
    {
      "cell_type": "code",
      "metadata": {
        "id": "3V0_rjCC0Qt4",
        "colab_type": "code",
        "outputId": "715d80cb-521b-41e1-ad57-c157485910c3",
        "colab": {
          "base_uri": "https://localhost:8080/",
          "height": 425
        }
      },
      "source": [
        "df"
      ],
      "execution_count": 0,
      "outputs": [
        {
          "output_type": "execute_result",
          "data": {
            "text/html": [
              "<div>\n",
              "<style scoped>\n",
              "    .dataframe tbody tr th:only-of-type {\n",
              "        vertical-align: middle;\n",
              "    }\n",
              "\n",
              "    .dataframe tbody tr th {\n",
              "        vertical-align: top;\n",
              "    }\n",
              "\n",
              "    .dataframe thead th {\n",
              "        text-align: right;\n",
              "    }\n",
              "</style>\n",
              "<table border=\"1\" class=\"dataframe\">\n",
              "  <thead>\n",
              "    <tr style=\"text-align: right;\">\n",
              "      <th></th>\n",
              "      <th>-1</th>\n",
              "      <th>223</th>\n",
              "      <th>2</th>\n",
              "      <th>2.1</th>\n",
              "      <th>0</th>\n",
              "      <th>0.1</th>\n",
              "      <th>0.2</th>\n",
              "      <th>0.3</th>\n",
              "      <th>0.4</th>\n",
              "      <th>0.5</th>\n",
              "      <th>0.6</th>\n",
              "      <th>0.7</th>\n",
              "      <th>0.8</th>\n",
              "      <th>1</th>\n",
              "      <th>0.9</th>\n",
              "      <th>0.10</th>\n",
              "      <th>0.11</th>\n",
              "      <th>1.1</th>\n",
              "      <th>0.12</th>\n",
              "      <th>0.13</th>\n",
              "      <th>0.14</th>\n",
              "      <th>-1.1</th>\n",
              "      <th>0.15</th>\n",
              "      <th>0.16</th>\n",
              "      <th>0.17</th>\n",
              "      <th>-1.2</th>\n",
              "      <th>0.18</th>\n",
              "      <th>0.19</th>\n",
              "      <th>1.2</th>\n",
              "      <th>0.20</th>\n",
              "      <th>0.21</th>\n",
              "      <th>1.3</th>\n",
              "      <th>0.22</th>\n",
              "      <th>0.23</th>\n",
              "      <th>0.24</th>\n",
              "      <th>1.4</th>\n",
              "      <th>0.25</th>\n",
              "      <th>0.26</th>\n",
              "      <th>0.27</th>\n",
              "      <th>0.28</th>\n",
              "      <th>...</th>\n",
              "      <th>-1.4</th>\n",
              "      <th>0.65</th>\n",
              "      <th>0.66</th>\n",
              "      <th>0.67</th>\n",
              "      <th>0.68</th>\n",
              "      <th>0.69</th>\n",
              "      <th>0.70</th>\n",
              "      <th>0.71</th>\n",
              "      <th>0.72</th>\n",
              "      <th>0.73</th>\n",
              "      <th>0.74</th>\n",
              "      <th>0.75</th>\n",
              "      <th>0.76</th>\n",
              "      <th>0.77</th>\n",
              "      <th>-1.5</th>\n",
              "      <th>0.78</th>\n",
              "      <th>0.79</th>\n",
              "      <th>0.80</th>\n",
              "      <th>0.81</th>\n",
              "      <th>0.82</th>\n",
              "      <th>0.83</th>\n",
              "      <th>0.84</th>\n",
              "      <th>0.85</th>\n",
              "      <th>0.86</th>\n",
              "      <th>0.87</th>\n",
              "      <th>0.88</th>\n",
              "      <th>0.89</th>\n",
              "      <th>0.90</th>\n",
              "      <th>0.91</th>\n",
              "      <th>0.92</th>\n",
              "      <th>0.93</th>\n",
              "      <th>0.94</th>\n",
              "      <th>0.95</th>\n",
              "      <th>0.96</th>\n",
              "      <th>0.97</th>\n",
              "      <th>0.98</th>\n",
              "      <th>0.99</th>\n",
              "      <th>0.100</th>\n",
              "      <th>0.101</th>\n",
              "      <th>0.102</th>\n",
              "    </tr>\n",
              "  </thead>\n",
              "  <tbody>\n",
              "    <tr>\n",
              "      <th>0</th>\n",
              "      <td>1</td>\n",
              "      <td>152</td>\n",
              "      <td>2</td>\n",
              "      <td>2</td>\n",
              "      <td>0</td>\n",
              "      <td>0</td>\n",
              "      <td>0</td>\n",
              "      <td>1</td>\n",
              "      <td>0</td>\n",
              "      <td>-1</td>\n",
              "      <td>0</td>\n",
              "      <td>0</td>\n",
              "      <td>0</td>\n",
              "      <td>0</td>\n",
              "      <td>0</td>\n",
              "      <td>0</td>\n",
              "      <td>0</td>\n",
              "      <td>1</td>\n",
              "      <td>0</td>\n",
              "      <td>0</td>\n",
              "      <td>0</td>\n",
              "      <td>0</td>\n",
              "      <td>0</td>\n",
              "      <td>0</td>\n",
              "      <td>-1</td>\n",
              "      <td>0</td>\n",
              "      <td>0</td>\n",
              "      <td>0</td>\n",
              "      <td>0</td>\n",
              "      <td>1</td>\n",
              "      <td>1</td>\n",
              "      <td>0</td>\n",
              "      <td>0</td>\n",
              "      <td>0</td>\n",
              "      <td>0</td>\n",
              "      <td>0</td>\n",
              "      <td>0</td>\n",
              "      <td>0</td>\n",
              "      <td>-1</td>\n",
              "      <td>0</td>\n",
              "      <td>...</td>\n",
              "      <td>0</td>\n",
              "      <td>0</td>\n",
              "      <td>0</td>\n",
              "      <td>0</td>\n",
              "      <td>0</td>\n",
              "      <td>0</td>\n",
              "      <td>0</td>\n",
              "      <td>0</td>\n",
              "      <td>0</td>\n",
              "      <td>0</td>\n",
              "      <td>0</td>\n",
              "      <td>0</td>\n",
              "      <td>0</td>\n",
              "      <td>0</td>\n",
              "      <td>0</td>\n",
              "      <td>0</td>\n",
              "      <td>0</td>\n",
              "      <td>0</td>\n",
              "      <td>0</td>\n",
              "      <td>-1</td>\n",
              "      <td>0</td>\n",
              "      <td>0</td>\n",
              "      <td>0</td>\n",
              "      <td>0</td>\n",
              "      <td>-1</td>\n",
              "      <td>0</td>\n",
              "      <td>0</td>\n",
              "      <td>0</td>\n",
              "      <td>0</td>\n",
              "      <td>0</td>\n",
              "      <td>0</td>\n",
              "      <td>0</td>\n",
              "      <td>0</td>\n",
              "      <td>0</td>\n",
              "      <td>0</td>\n",
              "      <td>0</td>\n",
              "      <td>0</td>\n",
              "      <td>0</td>\n",
              "      <td>0</td>\n",
              "      <td>0</td>\n",
              "    </tr>\n",
              "    <tr>\n",
              "      <th>1</th>\n",
              "      <td>1</td>\n",
              "      <td>131</td>\n",
              "      <td>2</td>\n",
              "      <td>2</td>\n",
              "      <td>0</td>\n",
              "      <td>0</td>\n",
              "      <td>0</td>\n",
              "      <td>1</td>\n",
              "      <td>0</td>\n",
              "      <td>-1</td>\n",
              "      <td>0</td>\n",
              "      <td>0</td>\n",
              "      <td>0</td>\n",
              "      <td>0</td>\n",
              "      <td>0</td>\n",
              "      <td>0</td>\n",
              "      <td>0</td>\n",
              "      <td>0</td>\n",
              "      <td>0</td>\n",
              "      <td>0</td>\n",
              "      <td>0</td>\n",
              "      <td>0</td>\n",
              "      <td>0</td>\n",
              "      <td>-1</td>\n",
              "      <td>0</td>\n",
              "      <td>1</td>\n",
              "      <td>0</td>\n",
              "      <td>0</td>\n",
              "      <td>1</td>\n",
              "      <td>0</td>\n",
              "      <td>0</td>\n",
              "      <td>0</td>\n",
              "      <td>0</td>\n",
              "      <td>0</td>\n",
              "      <td>0</td>\n",
              "      <td>1</td>\n",
              "      <td>0</td>\n",
              "      <td>0</td>\n",
              "      <td>0</td>\n",
              "      <td>0</td>\n",
              "      <td>...</td>\n",
              "      <td>0</td>\n",
              "      <td>0</td>\n",
              "      <td>0</td>\n",
              "      <td>0</td>\n",
              "      <td>0</td>\n",
              "      <td>0</td>\n",
              "      <td>0</td>\n",
              "      <td>0</td>\n",
              "      <td>0</td>\n",
              "      <td>0</td>\n",
              "      <td>0</td>\n",
              "      <td>0</td>\n",
              "      <td>0</td>\n",
              "      <td>0</td>\n",
              "      <td>0</td>\n",
              "      <td>0</td>\n",
              "      <td>0</td>\n",
              "      <td>0</td>\n",
              "      <td>0</td>\n",
              "      <td>-1</td>\n",
              "      <td>0</td>\n",
              "      <td>0</td>\n",
              "      <td>0</td>\n",
              "      <td>0</td>\n",
              "      <td>0</td>\n",
              "      <td>0</td>\n",
              "      <td>0</td>\n",
              "      <td>0</td>\n",
              "      <td>0</td>\n",
              "      <td>0</td>\n",
              "      <td>0</td>\n",
              "      <td>0</td>\n",
              "      <td>0</td>\n",
              "      <td>0</td>\n",
              "      <td>0</td>\n",
              "      <td>0</td>\n",
              "      <td>0</td>\n",
              "      <td>0</td>\n",
              "      <td>0</td>\n",
              "      <td>0</td>\n",
              "    </tr>\n",
              "    <tr>\n",
              "      <th>2</th>\n",
              "      <td>1</td>\n",
              "      <td>154</td>\n",
              "      <td>2</td>\n",
              "      <td>2</td>\n",
              "      <td>0</td>\n",
              "      <td>0</td>\n",
              "      <td>0</td>\n",
              "      <td>0</td>\n",
              "      <td>0</td>\n",
              "      <td>0</td>\n",
              "      <td>-1</td>\n",
              "      <td>0</td>\n",
              "      <td>0</td>\n",
              "      <td>0</td>\n",
              "      <td>0</td>\n",
              "      <td>0</td>\n",
              "      <td>0</td>\n",
              "      <td>0</td>\n",
              "      <td>0</td>\n",
              "      <td>0</td>\n",
              "      <td>1</td>\n",
              "      <td>0</td>\n",
              "      <td>0</td>\n",
              "      <td>0</td>\n",
              "      <td>0</td>\n",
              "      <td>0</td>\n",
              "      <td>-1</td>\n",
              "      <td>0</td>\n",
              "      <td>0</td>\n",
              "      <td>0</td>\n",
              "      <td>0</td>\n",
              "      <td>0</td>\n",
              "      <td>0</td>\n",
              "      <td>0</td>\n",
              "      <td>0</td>\n",
              "      <td>0</td>\n",
              "      <td>0</td>\n",
              "      <td>0</td>\n",
              "      <td>1</td>\n",
              "      <td>0</td>\n",
              "      <td>...</td>\n",
              "      <td>0</td>\n",
              "      <td>0</td>\n",
              "      <td>0</td>\n",
              "      <td>0</td>\n",
              "      <td>0</td>\n",
              "      <td>0</td>\n",
              "      <td>0</td>\n",
              "      <td>0</td>\n",
              "      <td>0</td>\n",
              "      <td>0</td>\n",
              "      <td>0</td>\n",
              "      <td>0</td>\n",
              "      <td>0</td>\n",
              "      <td>0</td>\n",
              "      <td>0</td>\n",
              "      <td>0</td>\n",
              "      <td>0</td>\n",
              "      <td>0</td>\n",
              "      <td>0</td>\n",
              "      <td>0</td>\n",
              "      <td>0</td>\n",
              "      <td>1</td>\n",
              "      <td>0</td>\n",
              "      <td>0</td>\n",
              "      <td>0</td>\n",
              "      <td>0</td>\n",
              "      <td>0</td>\n",
              "      <td>0</td>\n",
              "      <td>0</td>\n",
              "      <td>0</td>\n",
              "      <td>-1</td>\n",
              "      <td>0</td>\n",
              "      <td>0</td>\n",
              "      <td>0</td>\n",
              "      <td>0</td>\n",
              "      <td>0</td>\n",
              "      <td>0</td>\n",
              "      <td>0</td>\n",
              "      <td>0</td>\n",
              "      <td>0</td>\n",
              "    </tr>\n",
              "    <tr>\n",
              "      <th>3</th>\n",
              "      <td>-1</td>\n",
              "      <td>171</td>\n",
              "      <td>2</td>\n",
              "      <td>3</td>\n",
              "      <td>0</td>\n",
              "      <td>0</td>\n",
              "      <td>0</td>\n",
              "      <td>0</td>\n",
              "      <td>0</td>\n",
              "      <td>-1</td>\n",
              "      <td>0</td>\n",
              "      <td>0</td>\n",
              "      <td>-1</td>\n",
              "      <td>0</td>\n",
              "      <td>-1</td>\n",
              "      <td>0</td>\n",
              "      <td>0</td>\n",
              "      <td>0</td>\n",
              "      <td>0</td>\n",
              "      <td>1</td>\n",
              "      <td>0</td>\n",
              "      <td>0</td>\n",
              "      <td>0</td>\n",
              "      <td>0</td>\n",
              "      <td>0</td>\n",
              "      <td>0</td>\n",
              "      <td>0</td>\n",
              "      <td>0</td>\n",
              "      <td>0</td>\n",
              "      <td>0</td>\n",
              "      <td>0</td>\n",
              "      <td>0</td>\n",
              "      <td>-1</td>\n",
              "      <td>0</td>\n",
              "      <td>1</td>\n",
              "      <td>0</td>\n",
              "      <td>0</td>\n",
              "      <td>0</td>\n",
              "      <td>0</td>\n",
              "      <td>1</td>\n",
              "      <td>...</td>\n",
              "      <td>0</td>\n",
              "      <td>0</td>\n",
              "      <td>0</td>\n",
              "      <td>0</td>\n",
              "      <td>0</td>\n",
              "      <td>0</td>\n",
              "      <td>0</td>\n",
              "      <td>0</td>\n",
              "      <td>0</td>\n",
              "      <td>0</td>\n",
              "      <td>0</td>\n",
              "      <td>0</td>\n",
              "      <td>-1</td>\n",
              "      <td>0</td>\n",
              "      <td>0</td>\n",
              "      <td>0</td>\n",
              "      <td>0</td>\n",
              "      <td>0</td>\n",
              "      <td>0</td>\n",
              "      <td>0</td>\n",
              "      <td>0</td>\n",
              "      <td>0</td>\n",
              "      <td>0</td>\n",
              "      <td>0</td>\n",
              "      <td>0</td>\n",
              "      <td>0</td>\n",
              "      <td>0</td>\n",
              "      <td>0</td>\n",
              "      <td>0</td>\n",
              "      <td>0</td>\n",
              "      <td>0</td>\n",
              "      <td>0</td>\n",
              "      <td>0</td>\n",
              "      <td>0</td>\n",
              "      <td>0</td>\n",
              "      <td>0</td>\n",
              "      <td>0</td>\n",
              "      <td>0</td>\n",
              "      <td>0</td>\n",
              "      <td>0</td>\n",
              "    </tr>\n",
              "    <tr>\n",
              "      <th>4</th>\n",
              "      <td>1</td>\n",
              "      <td>122</td>\n",
              "      <td>2</td>\n",
              "      <td>3</td>\n",
              "      <td>0</td>\n",
              "      <td>1</td>\n",
              "      <td>0</td>\n",
              "      <td>0</td>\n",
              "      <td>0</td>\n",
              "      <td>0</td>\n",
              "      <td>0</td>\n",
              "      <td>0</td>\n",
              "      <td>0</td>\n",
              "      <td>0</td>\n",
              "      <td>0</td>\n",
              "      <td>-1</td>\n",
              "      <td>0</td>\n",
              "      <td>0</td>\n",
              "      <td>0</td>\n",
              "      <td>0</td>\n",
              "      <td>0</td>\n",
              "      <td>0</td>\n",
              "      <td>0</td>\n",
              "      <td>0</td>\n",
              "      <td>0</td>\n",
              "      <td>0</td>\n",
              "      <td>0</td>\n",
              "      <td>0</td>\n",
              "      <td>0</td>\n",
              "      <td>0</td>\n",
              "      <td>0</td>\n",
              "      <td>-1</td>\n",
              "      <td>0</td>\n",
              "      <td>0</td>\n",
              "      <td>0</td>\n",
              "      <td>0</td>\n",
              "      <td>0</td>\n",
              "      <td>0</td>\n",
              "      <td>0</td>\n",
              "      <td>0</td>\n",
              "      <td>...</td>\n",
              "      <td>1</td>\n",
              "      <td>0</td>\n",
              "      <td>0</td>\n",
              "      <td>0</td>\n",
              "      <td>0</td>\n",
              "      <td>0</td>\n",
              "      <td>0</td>\n",
              "      <td>0</td>\n",
              "      <td>0</td>\n",
              "      <td>0</td>\n",
              "      <td>0</td>\n",
              "      <td>0</td>\n",
              "      <td>0</td>\n",
              "      <td>0</td>\n",
              "      <td>0</td>\n",
              "      <td>0</td>\n",
              "      <td>0</td>\n",
              "      <td>0</td>\n",
              "      <td>0</td>\n",
              "      <td>0</td>\n",
              "      <td>0</td>\n",
              "      <td>0</td>\n",
              "      <td>0</td>\n",
              "      <td>0</td>\n",
              "      <td>0</td>\n",
              "      <td>0</td>\n",
              "      <td>0</td>\n",
              "      <td>0</td>\n",
              "      <td>0</td>\n",
              "      <td>0</td>\n",
              "      <td>1</td>\n",
              "      <td>0</td>\n",
              "      <td>0</td>\n",
              "      <td>0</td>\n",
              "      <td>0</td>\n",
              "      <td>0</td>\n",
              "      <td>0</td>\n",
              "      <td>0</td>\n",
              "      <td>0</td>\n",
              "      <td>-1</td>\n",
              "    </tr>\n",
              "    <tr>\n",
              "      <th>...</th>\n",
              "      <td>...</td>\n",
              "      <td>...</td>\n",
              "      <td>...</td>\n",
              "      <td>...</td>\n",
              "      <td>...</td>\n",
              "      <td>...</td>\n",
              "      <td>...</td>\n",
              "      <td>...</td>\n",
              "      <td>...</td>\n",
              "      <td>...</td>\n",
              "      <td>...</td>\n",
              "      <td>...</td>\n",
              "      <td>...</td>\n",
              "      <td>...</td>\n",
              "      <td>...</td>\n",
              "      <td>...</td>\n",
              "      <td>...</td>\n",
              "      <td>...</td>\n",
              "      <td>...</td>\n",
              "      <td>...</td>\n",
              "      <td>...</td>\n",
              "      <td>...</td>\n",
              "      <td>...</td>\n",
              "      <td>...</td>\n",
              "      <td>...</td>\n",
              "      <td>...</td>\n",
              "      <td>...</td>\n",
              "      <td>...</td>\n",
              "      <td>...</td>\n",
              "      <td>...</td>\n",
              "      <td>...</td>\n",
              "      <td>...</td>\n",
              "      <td>...</td>\n",
              "      <td>...</td>\n",
              "      <td>...</td>\n",
              "      <td>...</td>\n",
              "      <td>...</td>\n",
              "      <td>...</td>\n",
              "      <td>...</td>\n",
              "      <td>...</td>\n",
              "      <td>...</td>\n",
              "      <td>...</td>\n",
              "      <td>...</td>\n",
              "      <td>...</td>\n",
              "      <td>...</td>\n",
              "      <td>...</td>\n",
              "      <td>...</td>\n",
              "      <td>...</td>\n",
              "      <td>...</td>\n",
              "      <td>...</td>\n",
              "      <td>...</td>\n",
              "      <td>...</td>\n",
              "      <td>...</td>\n",
              "      <td>...</td>\n",
              "      <td>...</td>\n",
              "      <td>...</td>\n",
              "      <td>...</td>\n",
              "      <td>...</td>\n",
              "      <td>...</td>\n",
              "      <td>...</td>\n",
              "      <td>...</td>\n",
              "      <td>...</td>\n",
              "      <td>...</td>\n",
              "      <td>...</td>\n",
              "      <td>...</td>\n",
              "      <td>...</td>\n",
              "      <td>...</td>\n",
              "      <td>...</td>\n",
              "      <td>...</td>\n",
              "      <td>...</td>\n",
              "      <td>...</td>\n",
              "      <td>...</td>\n",
              "      <td>...</td>\n",
              "      <td>...</td>\n",
              "      <td>...</td>\n",
              "      <td>...</td>\n",
              "      <td>...</td>\n",
              "      <td>...</td>\n",
              "      <td>...</td>\n",
              "      <td>...</td>\n",
              "      <td>...</td>\n",
              "    </tr>\n",
              "    <tr>\n",
              "      <th>92644</th>\n",
              "      <td>-1</td>\n",
              "      <td>154</td>\n",
              "      <td>2</td>\n",
              "      <td>3</td>\n",
              "      <td>1</td>\n",
              "      <td>0</td>\n",
              "      <td>0</td>\n",
              "      <td>-1</td>\n",
              "      <td>0</td>\n",
              "      <td>0</td>\n",
              "      <td>0</td>\n",
              "      <td>0</td>\n",
              "      <td>-1</td>\n",
              "      <td>0</td>\n",
              "      <td>0</td>\n",
              "      <td>0</td>\n",
              "      <td>0</td>\n",
              "      <td>0</td>\n",
              "      <td>0</td>\n",
              "      <td>0</td>\n",
              "      <td>0</td>\n",
              "      <td>0</td>\n",
              "      <td>0</td>\n",
              "      <td>0</td>\n",
              "      <td>1</td>\n",
              "      <td>1</td>\n",
              "      <td>0</td>\n",
              "      <td>0</td>\n",
              "      <td>0</td>\n",
              "      <td>0</td>\n",
              "      <td>0</td>\n",
              "      <td>0</td>\n",
              "      <td>0</td>\n",
              "      <td>1</td>\n",
              "      <td>0</td>\n",
              "      <td>0</td>\n",
              "      <td>0</td>\n",
              "      <td>0</td>\n",
              "      <td>0</td>\n",
              "      <td>0</td>\n",
              "      <td>...</td>\n",
              "      <td>-1</td>\n",
              "      <td>0</td>\n",
              "      <td>0</td>\n",
              "      <td>0</td>\n",
              "      <td>0</td>\n",
              "      <td>0</td>\n",
              "      <td>0</td>\n",
              "      <td>0</td>\n",
              "      <td>0</td>\n",
              "      <td>0</td>\n",
              "      <td>0</td>\n",
              "      <td>0</td>\n",
              "      <td>0</td>\n",
              "      <td>0</td>\n",
              "      <td>0</td>\n",
              "      <td>0</td>\n",
              "      <td>0</td>\n",
              "      <td>0</td>\n",
              "      <td>0</td>\n",
              "      <td>0</td>\n",
              "      <td>0</td>\n",
              "      <td>0</td>\n",
              "      <td>0</td>\n",
              "      <td>0</td>\n",
              "      <td>0</td>\n",
              "      <td>0</td>\n",
              "      <td>0</td>\n",
              "      <td>0</td>\n",
              "      <td>0</td>\n",
              "      <td>0</td>\n",
              "      <td>0</td>\n",
              "      <td>0</td>\n",
              "      <td>0</td>\n",
              "      <td>0</td>\n",
              "      <td>0</td>\n",
              "      <td>0</td>\n",
              "      <td>0</td>\n",
              "      <td>0</td>\n",
              "      <td>0</td>\n",
              "      <td>0</td>\n",
              "    </tr>\n",
              "    <tr>\n",
              "      <th>92645</th>\n",
              "      <td>1</td>\n",
              "      <td>154</td>\n",
              "      <td>2</td>\n",
              "      <td>2</td>\n",
              "      <td>0</td>\n",
              "      <td>0</td>\n",
              "      <td>0</td>\n",
              "      <td>0</td>\n",
              "      <td>-1</td>\n",
              "      <td>0</td>\n",
              "      <td>0</td>\n",
              "      <td>-1</td>\n",
              "      <td>0</td>\n",
              "      <td>0</td>\n",
              "      <td>0</td>\n",
              "      <td>0</td>\n",
              "      <td>0</td>\n",
              "      <td>0</td>\n",
              "      <td>0</td>\n",
              "      <td>0</td>\n",
              "      <td>0</td>\n",
              "      <td>0</td>\n",
              "      <td>0</td>\n",
              "      <td>0</td>\n",
              "      <td>0</td>\n",
              "      <td>0</td>\n",
              "      <td>0</td>\n",
              "      <td>0</td>\n",
              "      <td>-1</td>\n",
              "      <td>0</td>\n",
              "      <td>0</td>\n",
              "      <td>0</td>\n",
              "      <td>0</td>\n",
              "      <td>0</td>\n",
              "      <td>1</td>\n",
              "      <td>0</td>\n",
              "      <td>0</td>\n",
              "      <td>0</td>\n",
              "      <td>0</td>\n",
              "      <td>0</td>\n",
              "      <td>...</td>\n",
              "      <td>0</td>\n",
              "      <td>0</td>\n",
              "      <td>0</td>\n",
              "      <td>0</td>\n",
              "      <td>0</td>\n",
              "      <td>0</td>\n",
              "      <td>0</td>\n",
              "      <td>0</td>\n",
              "      <td>0</td>\n",
              "      <td>0</td>\n",
              "      <td>0</td>\n",
              "      <td>0</td>\n",
              "      <td>0</td>\n",
              "      <td>0</td>\n",
              "      <td>0</td>\n",
              "      <td>0</td>\n",
              "      <td>0</td>\n",
              "      <td>0</td>\n",
              "      <td>-1</td>\n",
              "      <td>0</td>\n",
              "      <td>1</td>\n",
              "      <td>0</td>\n",
              "      <td>0</td>\n",
              "      <td>0</td>\n",
              "      <td>0</td>\n",
              "      <td>0</td>\n",
              "      <td>0</td>\n",
              "      <td>0</td>\n",
              "      <td>0</td>\n",
              "      <td>0</td>\n",
              "      <td>1</td>\n",
              "      <td>0</td>\n",
              "      <td>0</td>\n",
              "      <td>0</td>\n",
              "      <td>0</td>\n",
              "      <td>0</td>\n",
              "      <td>0</td>\n",
              "      <td>0</td>\n",
              "      <td>0</td>\n",
              "      <td>0</td>\n",
              "    </tr>\n",
              "    <tr>\n",
              "      <th>92646</th>\n",
              "      <td>1</td>\n",
              "      <td>111</td>\n",
              "      <td>2</td>\n",
              "      <td>3</td>\n",
              "      <td>0</td>\n",
              "      <td>0</td>\n",
              "      <td>0</td>\n",
              "      <td>0</td>\n",
              "      <td>0</td>\n",
              "      <td>0</td>\n",
              "      <td>0</td>\n",
              "      <td>0</td>\n",
              "      <td>1</td>\n",
              "      <td>1</td>\n",
              "      <td>0</td>\n",
              "      <td>0</td>\n",
              "      <td>0</td>\n",
              "      <td>0</td>\n",
              "      <td>0</td>\n",
              "      <td>0</td>\n",
              "      <td>1</td>\n",
              "      <td>0</td>\n",
              "      <td>0</td>\n",
              "      <td>0</td>\n",
              "      <td>0</td>\n",
              "      <td>0</td>\n",
              "      <td>0</td>\n",
              "      <td>0</td>\n",
              "      <td>0</td>\n",
              "      <td>0</td>\n",
              "      <td>0</td>\n",
              "      <td>0</td>\n",
              "      <td>0</td>\n",
              "      <td>0</td>\n",
              "      <td>0</td>\n",
              "      <td>1</td>\n",
              "      <td>0</td>\n",
              "      <td>0</td>\n",
              "      <td>0</td>\n",
              "      <td>0</td>\n",
              "      <td>...</td>\n",
              "      <td>-1</td>\n",
              "      <td>0</td>\n",
              "      <td>0</td>\n",
              "      <td>0</td>\n",
              "      <td>0</td>\n",
              "      <td>0</td>\n",
              "      <td>0</td>\n",
              "      <td>0</td>\n",
              "      <td>0</td>\n",
              "      <td>0</td>\n",
              "      <td>0</td>\n",
              "      <td>1</td>\n",
              "      <td>0</td>\n",
              "      <td>0</td>\n",
              "      <td>0</td>\n",
              "      <td>0</td>\n",
              "      <td>0</td>\n",
              "      <td>0</td>\n",
              "      <td>0</td>\n",
              "      <td>0</td>\n",
              "      <td>0</td>\n",
              "      <td>0</td>\n",
              "      <td>0</td>\n",
              "      <td>0</td>\n",
              "      <td>0</td>\n",
              "      <td>0</td>\n",
              "      <td>0</td>\n",
              "      <td>0</td>\n",
              "      <td>0</td>\n",
              "      <td>0</td>\n",
              "      <td>0</td>\n",
              "      <td>0</td>\n",
              "      <td>0</td>\n",
              "      <td>0</td>\n",
              "      <td>0</td>\n",
              "      <td>0</td>\n",
              "      <td>0</td>\n",
              "      <td>0</td>\n",
              "      <td>0</td>\n",
              "      <td>0</td>\n",
              "    </tr>\n",
              "    <tr>\n",
              "      <th>92647</th>\n",
              "      <td>-1</td>\n",
              "      <td>185</td>\n",
              "      <td>2</td>\n",
              "      <td>2</td>\n",
              "      <td>0</td>\n",
              "      <td>0</td>\n",
              "      <td>0</td>\n",
              "      <td>0</td>\n",
              "      <td>0</td>\n",
              "      <td>1</td>\n",
              "      <td>0</td>\n",
              "      <td>0</td>\n",
              "      <td>-1</td>\n",
              "      <td>0</td>\n",
              "      <td>0</td>\n",
              "      <td>-1</td>\n",
              "      <td>0</td>\n",
              "      <td>1</td>\n",
              "      <td>-1</td>\n",
              "      <td>0</td>\n",
              "      <td>0</td>\n",
              "      <td>0</td>\n",
              "      <td>0</td>\n",
              "      <td>0</td>\n",
              "      <td>1</td>\n",
              "      <td>0</td>\n",
              "      <td>0</td>\n",
              "      <td>0</td>\n",
              "      <td>0</td>\n",
              "      <td>1</td>\n",
              "      <td>0</td>\n",
              "      <td>0</td>\n",
              "      <td>0</td>\n",
              "      <td>0</td>\n",
              "      <td>0</td>\n",
              "      <td>-1</td>\n",
              "      <td>0</td>\n",
              "      <td>0</td>\n",
              "      <td>0</td>\n",
              "      <td>0</td>\n",
              "      <td>...</td>\n",
              "      <td>0</td>\n",
              "      <td>0</td>\n",
              "      <td>0</td>\n",
              "      <td>0</td>\n",
              "      <td>0</td>\n",
              "      <td>0</td>\n",
              "      <td>0</td>\n",
              "      <td>0</td>\n",
              "      <td>0</td>\n",
              "      <td>0</td>\n",
              "      <td>0</td>\n",
              "      <td>0</td>\n",
              "      <td>0</td>\n",
              "      <td>0</td>\n",
              "      <td>0</td>\n",
              "      <td>0</td>\n",
              "      <td>0</td>\n",
              "      <td>0</td>\n",
              "      <td>0</td>\n",
              "      <td>0</td>\n",
              "      <td>0</td>\n",
              "      <td>0</td>\n",
              "      <td>0</td>\n",
              "      <td>0</td>\n",
              "      <td>0</td>\n",
              "      <td>0</td>\n",
              "      <td>0</td>\n",
              "      <td>0</td>\n",
              "      <td>0</td>\n",
              "      <td>0</td>\n",
              "      <td>0</td>\n",
              "      <td>0</td>\n",
              "      <td>0</td>\n",
              "      <td>0</td>\n",
              "      <td>0</td>\n",
              "      <td>0</td>\n",
              "      <td>0</td>\n",
              "      <td>0</td>\n",
              "      <td>0</td>\n",
              "      <td>0</td>\n",
              "    </tr>\n",
              "    <tr>\n",
              "      <th>92648</th>\n",
              "      <td>-1</td>\n",
              "      <td>204</td>\n",
              "      <td>2</td>\n",
              "      <td>2</td>\n",
              "      <td>0</td>\n",
              "      <td>-1</td>\n",
              "      <td>0</td>\n",
              "      <td>0</td>\n",
              "      <td>1</td>\n",
              "      <td>0</td>\n",
              "      <td>0</td>\n",
              "      <td>0</td>\n",
              "      <td>0</td>\n",
              "      <td>0</td>\n",
              "      <td>0</td>\n",
              "      <td>0</td>\n",
              "      <td>0</td>\n",
              "      <td>1</td>\n",
              "      <td>0</td>\n",
              "      <td>-1</td>\n",
              "      <td>0</td>\n",
              "      <td>0</td>\n",
              "      <td>0</td>\n",
              "      <td>0</td>\n",
              "      <td>0</td>\n",
              "      <td>0</td>\n",
              "      <td>0</td>\n",
              "      <td>0</td>\n",
              "      <td>0</td>\n",
              "      <td>0</td>\n",
              "      <td>0</td>\n",
              "      <td>0</td>\n",
              "      <td>0</td>\n",
              "      <td>0</td>\n",
              "      <td>0</td>\n",
              "      <td>-1</td>\n",
              "      <td>0</td>\n",
              "      <td>0</td>\n",
              "      <td>0</td>\n",
              "      <td>0</td>\n",
              "      <td>...</td>\n",
              "      <td>0</td>\n",
              "      <td>0</td>\n",
              "      <td>0</td>\n",
              "      <td>0</td>\n",
              "      <td>0</td>\n",
              "      <td>-1</td>\n",
              "      <td>0</td>\n",
              "      <td>0</td>\n",
              "      <td>0</td>\n",
              "      <td>0</td>\n",
              "      <td>0</td>\n",
              "      <td>0</td>\n",
              "      <td>0</td>\n",
              "      <td>0</td>\n",
              "      <td>0</td>\n",
              "      <td>0</td>\n",
              "      <td>0</td>\n",
              "      <td>0</td>\n",
              "      <td>0</td>\n",
              "      <td>0</td>\n",
              "      <td>0</td>\n",
              "      <td>0</td>\n",
              "      <td>0</td>\n",
              "      <td>0</td>\n",
              "      <td>0</td>\n",
              "      <td>0</td>\n",
              "      <td>0</td>\n",
              "      <td>0</td>\n",
              "      <td>0</td>\n",
              "      <td>0</td>\n",
              "      <td>0</td>\n",
              "      <td>0</td>\n",
              "      <td>0</td>\n",
              "      <td>0</td>\n",
              "      <td>0</td>\n",
              "      <td>0</td>\n",
              "      <td>0</td>\n",
              "      <td>0</td>\n",
              "      <td>0</td>\n",
              "      <td>0</td>\n",
              "    </tr>\n",
              "  </tbody>\n",
              "</table>\n",
              "<p>92649 rows × 117 columns</p>\n",
              "</div>"
            ],
            "text/plain": [
              "       -1  223  2  2.1  0  0.1  ...  0.97  0.98  0.99  0.100  0.101  0.102\n",
              "0       1  152  2    2  0    0  ...     0     0     0      0      0      0\n",
              "1       1  131  2    2  0    0  ...     0     0     0      0      0      0\n",
              "2       1  154  2    2  0    0  ...     0     0     0      0      0      0\n",
              "3      -1  171  2    3  0    0  ...     0     0     0      0      0      0\n",
              "4       1  122  2    3  0    1  ...     0     0     0      0      0     -1\n",
              "...    ..  ... ..  ... ..  ...  ...   ...   ...   ...    ...    ...    ...\n",
              "92644  -1  154  2    3  1    0  ...     0     0     0      0      0      0\n",
              "92645   1  154  2    2  0    0  ...     0     0     0      0      0      0\n",
              "92646   1  111  2    3  0    0  ...     0     0     0      0      0      0\n",
              "92647  -1  185  2    2  0    0  ...     0     0     0      0      0      0\n",
              "92648  -1  204  2    2  0   -1  ...     0     0     0      0      0      0\n",
              "\n",
              "[92649 rows x 117 columns]"
            ]
          },
          "metadata": {
            "tags": []
          },
          "execution_count": 3
        }
      ]
    },
    {
      "cell_type": "markdown",
      "metadata": {
        "id": "-rOagv5NiAMg",
        "colab_type": "text"
      },
      "source": [
        "# Converting -1 label to 0 \n",
        "In order to apply alogorithms"
      ]
    },
    {
      "cell_type": "code",
      "metadata": {
        "id": "dg85-uPrwhxt",
        "colab_type": "code",
        "colab": {}
      },
      "source": [
        "f=[]\n",
        "for i in df[\"-1\"]:\n",
        "  if i==-1:\n",
        "    i=0\n",
        "    f.append(i)\n",
        "  else:\n",
        "    f.append(i)\n",
        "\n"
      ],
      "execution_count": 0,
      "outputs": []
    },
    {
      "cell_type": "code",
      "metadata": {
        "id": "OJz71nhVxAmC",
        "colab_type": "code",
        "colab": {}
      },
      "source": [
        "df[\"-1\"]=f"
      ],
      "execution_count": 0,
      "outputs": []
    },
    {
      "cell_type": "code",
      "metadata": {
        "id": "oIshWufA1Pz7",
        "colab_type": "code",
        "colab": {}
      },
      "source": [
        "pd.set_option('display.max_colwidth', -1)"
      ],
      "execution_count": 0,
      "outputs": []
    },
    {
      "cell_type": "markdown",
      "metadata": {
        "id": "nwmFYSjdiPEF",
        "colab_type": "text"
      },
      "source": [
        "#Checking for null values\n",
        "\n",
        "No null values found"
      ]
    },
    {
      "cell_type": "code",
      "metadata": {
        "id": "Gz6XJMLL0UmR",
        "colab_type": "code",
        "outputId": "42e40716-2e00-4c4e-a540-18286dd803c5",
        "colab": {
          "base_uri": "https://localhost:8080/",
          "height": 221
        }
      },
      "source": [
        "df.isnull().any()"
      ],
      "execution_count": 0,
      "outputs": [
        {
          "output_type": "execute_result",
          "data": {
            "text/plain": [
              "-1       False\n",
              "223      False\n",
              "2        False\n",
              "2.1      False\n",
              "0        False\n",
              "         ...  \n",
              "0.98     False\n",
              "0.99     False\n",
              "0.100    False\n",
              "0.101    False\n",
              "0.102    False\n",
              "Length: 117, dtype: bool"
            ]
          },
          "metadata": {
            "tags": []
          },
          "execution_count": 7
        }
      ]
    },
    {
      "cell_type": "markdown",
      "metadata": {
        "id": "-TP4nzDbiWrB",
        "colab_type": "text"
      },
      "source": [
        "#DISTRIBUTION"
      ]
    },
    {
      "cell_type": "code",
      "metadata": {
        "id": "p3dYDXji0-Ny",
        "colab_type": "code",
        "outputId": "104d4daf-884b-4ffb-f6d4-b70ccfce40bd",
        "colab": {
          "base_uri": "https://localhost:8080/",
          "height": 68
        }
      },
      "source": [
        "df[\"-1\"].value_counts()"
      ],
      "execution_count": 0,
      "outputs": [
        {
          "output_type": "execute_result",
          "data": {
            "text/plain": [
              "1    48782\n",
              "0    43867\n",
              "Name: -1, dtype: int64"
            ]
          },
          "metadata": {
            "tags": []
          },
          "execution_count": 8
        }
      ]
    },
    {
      "cell_type": "code",
      "metadata": {
        "id": "uugFWAXK21a3",
        "colab_type": "code",
        "outputId": "64f74a12-51d6-452a-a970-927d9eed5192",
        "colab": {
          "base_uri": "https://localhost:8080/",
          "height": 836
        }
      },
      "source": [
        "df[\"223\"].value_counts()"
      ],
      "execution_count": 0,
      "outputs": [
        {
          "output_type": "execute_result",
          "data": {
            "text/plain": [
              "227    7874\n",
              "154    7013\n",
              "156    6899\n",
              "151    6848\n",
              "153    6757\n",
              "152    6715\n",
              "155    6611\n",
              "224    5963\n",
              "231    3666\n",
              "223    3500\n",
              "225    2643\n",
              "232    1706\n",
              "204    1463\n",
              "182    1377\n",
              "187    1257\n",
              "145    1242\n",
              "144    1202\n",
              "188    1190\n",
              "181    1183\n",
              "171    1122\n",
              "186    1090\n",
              "184    974 \n",
              "185    968 \n",
              "183    943 \n",
              "191    923 \n",
              "111    838 \n",
              "192    828 \n",
              "112    804 \n",
              "133    762 \n",
              "131    756 \n",
              "132    749 \n",
              "121    714 \n",
              "138    695 \n",
              "124    664 \n",
              "123    663 \n",
              "122    662 \n",
              "134    645 \n",
              "137    617 \n",
              "136    613 \n",
              "135    605 \n",
              "261    262 \n",
              "161    244 \n",
              "251    154 \n",
              "241    127 \n",
              "213    89  \n",
              "211    18  \n",
              "212    11  \n",
              "Name: 223, dtype: int64"
            ]
          },
          "metadata": {
            "tags": []
          },
          "execution_count": 9
        }
      ]
    },
    {
      "cell_type": "code",
      "metadata": {
        "id": "CjuCVCsq29hk",
        "colab_type": "code",
        "outputId": "fabc97d3-1e96-432b-f448-e580f4c1bb03",
        "colab": {
          "base_uri": "https://localhost:8080/",
          "height": 187
        }
      },
      "source": [
        "df[\"2\"].value_counts()"
      ],
      "execution_count": 0,
      "outputs": [
        {
          "output_type": "execute_result",
          "data": {
            "text/plain": [
              "2    71896\n",
              "9    10033\n",
              "8    8306 \n",
              "1    1229 \n",
              "6    498  \n",
              "3    386  \n",
              "4    208  \n",
              "7    81   \n",
              "5    12   \n",
              "Name: 2, dtype: int64"
            ]
          },
          "metadata": {
            "tags": []
          },
          "execution_count": 10
        }
      ]
    },
    {
      "cell_type": "code",
      "metadata": {
        "id": "dMrY46Ay3I3y",
        "colab_type": "code",
        "outputId": "f8577c87-f73f-4ace-9f73-5cb014bec5a4",
        "colab": {
          "base_uri": "https://localhost:8080/",
          "height": 85
        }
      },
      "source": [
        "df[\"2.1\"].value_counts()"
      ],
      "execution_count": 0,
      "outputs": [
        {
          "output_type": "execute_result",
          "data": {
            "text/plain": [
              "2    56987\n",
              "3    35647\n",
              "1    15   \n",
              "Name: 2.1, dtype: int64"
            ]
          },
          "metadata": {
            "tags": []
          },
          "execution_count": 11
        }
      ]
    },
    {
      "cell_type": "markdown",
      "metadata": {
        "id": "qYiBvOLFieZV",
        "colab_type": "text"
      },
      "source": [
        "#CORRELATION MATRIX"
      ]
    },
    {
      "cell_type": "markdown",
      "metadata": {
        "id": "bW6gxqlVijw7",
        "colab_type": "text"
      },
      "source": [
        "WIN OR LOSS DEPENDS ALMOST EQUALLY ON THE CHOOSEN COLUMN"
      ]
    },
    {
      "cell_type": "code",
      "metadata": {
        "id": "6S3dkQdI3Veu",
        "colab_type": "code",
        "outputId": "248d4566-36d9-4170-e3ed-953a13eb639d",
        "colab": {
          "base_uri": "https://localhost:8080/",
          "height": 298
        }
      },
      "source": [
        "\n",
        "# Entire DataFrame\n",
        "corr = df.loc[:,[\"-1\",\"223\",\"2\",\"2.1\"]].corr()\n",
        "sns.heatmap(corr, cmap='coolwarm_r', annot_kws={'size':20})\n",
        "plt.title(\"Correlation Matrix \\n (don't use for reference)\", fontsize=14)\n",
        "\n",
        "\n",
        "plt.show()"
      ],
      "execution_count": 0,
      "outputs": [
        {
          "output_type": "display_data",
          "data": {
            "image/png": "[encoded data removed]",
            "text/plain": [
              "<Figure size 432x288 with 2 Axes>"
            ]
          },
          "metadata": {
            "tags": [],
            "needs_background": "light"
          }
        }
      ]
    },
    {
      "cell_type": "code",
      "metadata": {
        "id": "5kvcvAmu_ZTU",
        "colab_type": "code",
        "colab": {}
      },
      "source": [
        "D=df[\"-1\"].value_counts()"
      ],
      "execution_count": 0,
      "outputs": []
    },
    {
      "cell_type": "markdown",
      "metadata": {
        "id": "meZ0Zw3bhmJU",
        "colab_type": "text"
      },
      "source": [
        "# Distribution of classes\n",
        " \n",
        "FAIRLY BALANCE DATASET\n",
        "NO NEED TO APPLY UNDERSAMPLING OR OVERSAMPLING"
      ]
    },
    {
      "cell_type": "code",
      "metadata": {
        "id": "Qm-9QlooFTKS",
        "colab_type": "code",
        "outputId": "35d748d8-1952-48fe-88d4-04ed5725d214",
        "colab": {
          "base_uri": "https://localhost:8080/",
          "height": 284
        }
      },
      "source": [
        "sns.set(style=\"darkgrid\")\n",
        "\n",
        "ax = sns.countplot(x=\"-1\", data=df)"
      ],
      "execution_count": 0,
      "outputs": [
        {
          "output_type": "display_data",
          "data": {
            "image/png": "[encoded data removed]",
            "text/plain": [
              "<Figure size 432x288 with 1 Axes>"
            ]
          },
          "metadata": {
            "tags": []
          }
        }
      ]
    },
    {
      "cell_type": "code",
      "metadata": {
        "id": "QI40386xFMzy",
        "colab_type": "code",
        "colab": {}
      },
      "source": [
        "X= df.drop([\"-1\",\"223\"],axis=1)"
      ],
      "execution_count": 0,
      "outputs": []
    },
    {
      "cell_type": "code",
      "metadata": {
        "id": "dbSV-j02GiW8",
        "colab_type": "code",
        "colab": {}
      },
      "source": [
        "y=df[\"-1\"]"
      ],
      "execution_count": 0,
      "outputs": []
    },
    {
      "cell_type": "markdown",
      "metadata": {
        "id": "RjmtMdvAHqou",
        "colab_type": "text"
      },
      "source": [
        "#split"
      ]
    },
    {
      "cell_type": "code",
      "metadata": {
        "id": "dIPuyY2ZGlMC",
        "colab_type": "code",
        "colab": {}
      },
      "source": [
        "\n",
        "\n",
        "# split the data into test and train by maintaining same distribution of output varaible 'y_true' [stratify=y_true]\n",
        "X_train, X_test, y_train, y_test = train_test_split(X, y, stratify=y, test_size=0.2)\n",
        "# split the train data into train and cross validation by maintaining same distribution of output varaible 'y_train' [stratify=y_train]\n",
        "X_train, X_cv, y_train, y_cv = train_test_split(X_train, y_train, stratify=y_train, test_size=0.2)"
      ],
      "execution_count": 0,
      "outputs": []
    },
    {
      "cell_type": "code",
      "metadata": {
        "id": "c39Fp1IKHp6c",
        "colab_type": "code",
        "outputId": "1e426799-7fab-4ecb-bc78-d9f1fa59ae0e",
        "colab": {
          "base_uri": "https://localhost:8080/",
          "height": 68
        }
      },
      "source": [
        "print('Number of data points in train data:', X_train.shape[0])\n",
        "print('Number of data points in test data:',X_test.shape[0])\n",
        "print('Number of data points in cross validation data:', X_cv.shape[0])"
      ],
      "execution_count": 0,
      "outputs": [
        {
          "output_type": "stream",
          "text": [
            "Number of data points in train data: 59295\n",
            "Number of data points in test data: 18530\n",
            "Number of data points in cross validation data: 14824\n"
          ],
          "name": "stdout"
        }
      ]
    },
    {
      "cell_type": "code",
      "metadata": {
        "id": "R1hy-Tdmev9m",
        "colab_type": "code",
        "outputId": "b96b0627-b06b-4a48-dba7-8f4488dd37dc",
        "colab": {
          "base_uri": "https://localhost:8080/",
          "height": 68
        }
      },
      "source": [
        "y_train.value_counts()"
      ],
      "execution_count": 0,
      "outputs": [
        {
          "output_type": "execute_result",
          "data": {
            "text/plain": [
              "1    31220\n",
              "0    28075\n",
              "Name: -1, dtype: int64"
            ]
          },
          "metadata": {
            "tags": []
          },
          "execution_count": 19
        }
      ]
    },
    {
      "cell_type": "code",
      "metadata": {
        "id": "dmNfovARe1uV",
        "colab_type": "code",
        "outputId": "c02d7056-35fe-4ef3-adad-43c15dfe5687",
        "colab": {
          "base_uri": "https://localhost:8080/",
          "height": 68
        }
      },
      "source": [
        "y_test.value_counts()"
      ],
      "execution_count": 0,
      "outputs": [
        {
          "output_type": "execute_result",
          "data": {
            "text/plain": [
              "1    9757\n",
              "0    8773\n",
              "Name: -1, dtype: int64"
            ]
          },
          "metadata": {
            "tags": []
          },
          "execution_count": 21
        }
      ]
    },
    {
      "cell_type": "markdown",
      "metadata": {
        "id": "FYyyuwQjHjsM",
        "colab_type": "text"
      },
      "source": [
        "# ALGORITHMS"
      ]
    },
    {
      "cell_type": "markdown",
      "metadata": {
        "id": "f1w0jC3qro9f",
        "colab_type": "text"
      },
      "source": [
        "Without hyperparameter tuning"
      ]
    },
    {
      "cell_type": "code",
      "metadata": {
        "id": "gDqPd3RzHlKa",
        "colab_type": "code",
        "colab": {}
      },
      "source": [
        "\n",
        "classifiers = {\n",
        "    \"LogisiticRegression\": LogisticRegression(),\n",
        "    \"KNearest\": KNeighborsClassifier(),\n",
        "    \"Support Vector Classifier\": SVC(),\n",
        "    \"DecisionTreeClassifier\": DecisionTreeClassifier()\n",
        "}"
      ],
      "execution_count": 0,
      "outputs": []
    },
    {
      "cell_type": "code",
      "metadata": {
        "id": "Ygjn9f0XIQmd",
        "colab_type": "code",
        "outputId": "b2e45c50-e46d-4850-ccb9-ce5927cef4a0",
        "colab": {
          "base_uri": "https://localhost:8080/",
          "height": 51
        }
      },
      "source": [
        ".\n",
        "from sklearn.model_selection import cross_val_score\n",
        "\n",
        "\n",
        "for key, classifier in classifiers.items():\n",
        "    classifier.fit(X_train, y_train)\n",
        "    training_score = cross_val_score(classifier, X_train, y_train, cv=5)\n",
        "    print(\"Classifiers: \", classifier.__class__.__name__, \"Has a training score of\", round(training_score.mean(), 2) * 100, \"% accuracy score\")"
      ],
      "execution_count": 0,
      "outputs": [
        {
          "output_type": "stream",
          "text": [
            "Classifiers:  LogisticRegression Has a training score of 60.0 % accuracy score\n",
            "Classifiers:  KNeighborsClassifier Has a training score of 53.0 % accuracy score\n"
          ],
          "name": "stdout"
        }
      ]
    },
    {
      "cell_type": "markdown",
      "metadata": {
        "id": "axf0kvKlvnAX",
        "colab_type": "text"
      },
      "source": [
        "#WITH HYPERPARAMETER TUNING"
      ]
    },
    {
      "cell_type": "markdown",
      "metadata": {
        "id": "kVfm9oaAvpiu",
        "colab_type": "text"
      },
      "source": [
        "1.LOGISTIC REGRESSION (L1 AND L2 REGULARIZATION)\n",
        "\n",
        "2.KNN\n",
        "\n",
        "3.SUPPORT VECTOR MACHINE\n",
        "\n",
        "4.DECISION TREES\n"
      ]
    },
    {
      "cell_type": "code",
      "metadata": {
        "id": "piCAgThyIU3R",
        "colab_type": "code",
        "colab": {}
      },
      "source": [
        "# Use GridSearchCV to find the best parameters.\n",
        "from sklearn.model_selection import GridSearchCV\n",
        "\n",
        "\n",
        "# Logistic Regression \n",
        "log_reg_params = {\"penalty\": ['l1', 'l2'], 'C': [0.001, 0.01, 0.1, 1, 10, 100, 1000]}\n",
        "\n",
        "\n",
        "\n",
        "grid_log_reg = GridSearchCV(LogisticRegression(), log_reg_params)\n",
        "grid_log_reg.fit(X_train, y_train)\n",
        "# We automatically get the logistic regression with the best parameters.\n",
        "log_reg = grid_log_reg.best_estimator_\n",
        "\n",
        "knears_params = {\"n_neighbors\": list(range(2,5,1)), 'algorithm': ['auto', 'ball_tree', 'kd_tree', 'brute']}\n",
        "\n",
        "grid_knears = GridSearchCV(KNeighborsClassifier(), knears_params)\n",
        "grid_knears.fit(X_train, y_train)\n",
        "# KNears best estimator\n",
        "knears_neighbors = grid_knears.best_estimator_\n",
        "\n",
        "# Support Vector Classifier\n",
        "svc_params = {'C': [0.5, 0.7, 0.9, 1], 'kernel': ['rbf', 'poly', 'sigmoid', 'linear']}\n",
        "grid_svc = GridSearchCV(SVC(), svc_params)\n",
        "grid_svc.fit(X_train, y_train)\n",
        "\n",
        "# SVC best estimator\n",
        "svc = grid_svc.best_estimator_\n",
        "\n",
        "# DecisionTree Classifier\n",
        "tree_params = {\"criterion\": [\"gini\", \"entropy\"], \"max_depth\": list(range(2,4,1)), \n",
        "              \"min_samples_leaf\": list(range(5,7,1))}\n",
        "grid_tree = GridSearchCV(DecisionTreeClassifier(), tree_params)\n",
        "grid_tree.fit(X_train, y_train)\n",
        "\n",
        "# tree best estimator\n",
        "tree_clf = grid_tree.best_estimator_"
      ],
      "execution_count": 0,
      "outputs": []
    },
    {
      "cell_type": "code",
      "metadata": {
        "id": "ms7To3NksKx6",
        "colab_type": "code",
        "outputId": "4f0d8d4a-16e2-481e-a0e5-dc91018aecfc",
        "colab": {
          "base_uri": "https://localhost:8080/",
          "height": 85
        }
      },
      "source": [
        "# Overfitting Case\n",
        "\n",
        "log_reg_score = cross_val_score(log_reg, X_train, y_train, cv=5)\n",
        "print('Logistic Regression Cross Validation Score: ', round(log_reg_score.mean() * 100, 2).astype(str) + '%')\n",
        "\n",
        "\n",
        "knears_score = cross_val_score(knears_neighbors, X_train, y_train, cv=5)\n",
        "print('Knears Neighbors Cross Validation Score', round(knears_score.mean() * 100, 2).astype(str) + '%')\n",
        "\n",
        "svc_score = cross_val_score(svc, X_train, y_train, cv=5)\n",
        "print('Support Vector Classifier Cross Validation Score', round(svc_score.mean() * 100, 2).astype(str) + '%')\n",
        "\n",
        "tree_score = cross_val_score(tree_clf, X_train, y_train, cv=5)\n",
        "print('DecisionTree Classifier Cross Validation Score', round(tree_score.mean() * 100, 2).astype(str) + '%')"
      ],
      "execution_count": 0,
      "outputs": [
        {
          "output_type": "stream",
          "text": [
            "Logistic Regression Cross Validation Score:  58.62%\n",
            "Knears Neighbors Cross Validation Score 51.86%\n",
            "Support Vector Classifier Cross Validation Score 58.2%\n",
            "DecisionTree Classifier Cross Validation Score 52.94%\n"
          ],
          "name": "stdout"
        }
      ]
    },
    {
      "cell_type": "markdown",
      "metadata": {
        "id": "w0bcLewPvXJK",
        "colab_type": "text"
      },
      "source": [
        "#RANDOM FOREST MODEL"
      ]
    },
    {
      "cell_type": "code",
      "metadata": {
        "id": "BOPel9rVsZTm",
        "colab_type": "code",
        "outputId": "c1113d92-c15c-47d5-f052-701ba55d1d45",
        "colab": {
          "base_uri": "https://localhost:8080/",
          "height": 170
        }
      },
      "source": [
        "from sklearn.model_selection import GridSearchCV\n",
        "base_learners = [20,40,60,80,100,120]\n",
        "depths=[1,5,10,50,100,500,1000]\n",
        "param_grid={'n_estimators': base_learners, 'max_depth':depths}\n",
        "model = GridSearchCV(RandomForestClassifier(max_features='sqrt'),param_grid,scoring='roc_auc',n_jobs=-1,cv=3,return_train_score=True)\n",
        "model.fit(X_train, y_train)\n",
        "\n",
        "print(model.best_estimator_)\n",
        "print(model.score(X_test, y_test))\n",
        "   "
      ],
      "execution_count": 0,
      "outputs": [
        {
          "output_type": "stream",
          "text": [
            "RandomForestClassifier(bootstrap=True, ccp_alpha=0.0, class_weight=None,\n",
            "                       criterion='gini', max_depth=10, max_features='sqrt',\n",
            "                       max_leaf_nodes=None, max_samples=None,\n",
            "                       min_impurity_decrease=0.0, min_impurity_split=None,\n",
            "                       min_samples_leaf=1, min_samples_split=2,\n",
            "                       min_weight_fraction_leaf=0.0, n_estimators=120,\n",
            "                       n_jobs=None, oob_score=False, random_state=None,\n",
            "                       verbose=0, warm_start=False)\n",
            "0.6089998358726422\n"
          ],
          "name": "stdout"
        }
      ]
    },
    {
      "cell_type": "code",
      "metadata": {
        "id": "CsmOIu03w9vh",
        "colab_type": "code",
        "outputId": "fad37ffe-b6a3-499c-abac-4b4da21e9897",
        "colab": {
          "base_uri": "https://localhost:8080/",
          "height": 51
        }
      },
      "source": [
        "print(\"optimal n_estimators\",model.best_estimator_.n_estimators)\n",
        "print(\"optimal max_depth\",model.best_estimator_.max_depth)\n"
      ],
      "execution_count": 0,
      "outputs": [
        {
          "output_type": "stream",
          "text": [
            "optimal n_estimators 120\n",
            "optimal max_depth 10\n"
          ],
          "name": "stdout"
        }
      ]
    },
    {
      "cell_type": "code",
      "metadata": {
        "id": "hf8Yi_0exWFS",
        "colab_type": "code",
        "outputId": "13e59531-22fd-4c62-cbdb-60b7ce7dd2e2",
        "colab": {
          "base_uri": "https://localhost:8080/",
          "height": 300
        }
      },
      "source": [
        "import seaborn as sns\n",
        "X=[]\n",
        "Y=[]\n",
        "Z=[]\n",
        "Zt=[]\n",
        "for bl in base_learners:\n",
        "    for d in depths:\n",
        "        rf=RandomForestClassifier(max_features='sqrt',max_depth=d,n_estimators=bl)\n",
        "        rf.fit(X_train,y_train)\n",
        "        pred=rf.predict_proba(X_cv)[:,1]\n",
        "        predt=rf.predict_proba(X_train)[:,1]\n",
        "        X.append(bl)\n",
        "        Y.append(d)\n",
        "        Z.append(roc_auc_score(y_cv,pred))\n",
        "        Zt.append(roc_auc_score(y_train,predt))\n",
        "        \n",
        "data = pd.DataFrame({'n_estimators': X, 'max_depth': Y, 'AUC': Z})\n",
        "data_pivoted = data.pivot(\"n_estimators\", \"max_depth\", \"AUC\")\n",
        "ax = sns.heatmap(data_pivoted,annot=True)\n",
        "plt.title('Heatmap for cross validation data')\n",
        "plt.show()\n"
      ],
      "execution_count": 0,
      "outputs": [
        {
          "output_type": "display_data",
          "data": {
            "image/png": "[encoded data removed]",
            "text/plain": [
              "<Figure size 432x288 with 2 Axes>"
            ]
          },
          "metadata": {
            "tags": []
          }
        }
      ]
    },
    {
      "cell_type": "code",
      "metadata": {
        "id": "MaoO52XTxZ9l",
        "colab_type": "code",
        "outputId": "c8a1873d-4ee1-4ddb-92f9-7753e586f17b",
        "colab": {
          "base_uri": "https://localhost:8080/",
          "height": 300
        }
      },
      "source": [
        "data = pd.DataFrame({'n_estimators': X, 'max_depth': Y, 'AUC': Zt})\n",
        "data_pivoted = data.pivot(\"n_estimators\", \"max_depth\", \"AUC\")\n",
        "ax = sns.heatmap(data_pivoted,annot=True)\n",
        "plt.title('Heatmap for train data')\n",
        "plt.show()"
      ],
      "execution_count": 0,
      "outputs": [
        {
          "output_type": "display_data",
          "data": {
            "image/png": "[encoded data removed]",
            "text/plain": [
              "<Figure size 432x288 with 2 Axes>"
            ]
          },
          "metadata": {
            "tags": []
          }
        }
      ]
    },
    {
      "cell_type": "code",
      "metadata": {
        "id": "QP9m7gJuxgEt",
        "colab_type": "code",
        "outputId": "02f1132c-a767-4a5d-a017-c4aa0003ea74",
        "colab": {
          "base_uri": "https://localhost:8080/",
          "height": 341
        }
      },
      "source": [
        "train_auc= model.cv_results_['mean_train_score']\n",
        "train_auc_std = model.cv_results_['std_train_score']\n",
        "test_auc = model.cv_results_['mean_test_score']\n",
        "test_auc_std = model.cv_results_['std_test_score']\n",
        "#Output of GridSearchCV\n",
        "print('Best score: ',model.best_score_)\n",
        "print('Best Hyper parameters: ',model.best_params_)\n",
        "print('='*75)\n",
        "print('Train AUC scores')\n",
        "print(model.cv_results_['mean_train_score'])\n",
        "print('CV AUC scores')\n",
        "print(model.cv_results_['mean_test_score'])"
      ],
      "execution_count": 0,
      "outputs": [
        {
          "output_type": "stream",
          "text": [
            "Best score:  0.600966757131521\n",
            "Best Hyper parameters:  {'max_depth': 10, 'n_estimators': 120}\n",
            "===========================================================================\n",
            "Train AUC scores\n",
            "[0.5628605  0.5766832  0.5858586  0.58972795 0.59224164 0.59198341\n",
            " 0.61149806 0.62768096 0.62757836 0.63193886 0.63113584 0.63368748\n",
            " 0.6917077  0.71687708 0.71856845 0.72249743 0.72191267 0.7270592\n",
            " 0.99982271 0.99999692 0.99999992 1.         1.         1.\n",
            " 0.99999247 1.         1.         1.         1.         1.\n",
            " 0.9999925  1.         1.         1.         1.         1.\n",
            " 0.99998724 1.         1.         1.         1.         1.        ]\n",
            "CV AUC scores\n",
            "[0.55898542 0.56755185 0.57628577 0.58107378 0.57897815 0.58218181\n",
            " 0.57957397 0.59081169 0.59040245 0.59334987 0.59418572 0.59501719\n",
            " 0.58389971 0.59412924 0.59618062 0.60015473 0.60070236 0.60096676\n",
            " 0.56990775 0.58522831 0.59037318 0.59571371 0.59878902 0.59920106\n",
            " 0.56697448 0.57972761 0.5871613  0.59264873 0.59579853 0.5967814\n",
            " 0.56916789 0.58029408 0.58836571 0.59202    0.59699114 0.59754888\n",
            " 0.56657054 0.58232587 0.58565901 0.59070925 0.59572476 0.5967511 ]\n"
          ],
          "name": "stdout"
        }
      ]
    },
    {
      "cell_type": "markdown",
      "metadata": {
        "id": "rqTUo5oPwDIE",
        "colab_type": "text"
      },
      "source": [
        "# ROC CURVE(RF)"
      ]
    },
    {
      "cell_type": "code",
      "metadata": {
        "id": "NqUB56wex26o",
        "colab_type": "code",
        "colab": {}
      },
      "source": [
        "from sklearn.metrics import accuracy_score\n",
        "from sklearn import model_selection\n",
        "from sklearn.metrics import roc_auc_score\n",
        "from sklearn.model_selection  import train_test_split\n",
        "from sklearn.metrics import accuracy_score\n",
        "from sklearn.model_selection  import cross_val_score\n",
        "from collections import Counter\n",
        "import sklearn.metrics as metrics"
      ],
      "execution_count": 0,
      "outputs": []
    },
    {
      "cell_type": "code",
      "metadata": {
        "id": "rkFGv1ayxjrN",
        "colab_type": "code",
        "outputId": "bca8397f-50ab-43ad-ecb9-64e9a579f36d",
        "colab": {
          "base_uri": "https://localhost:8080/",
          "height": 300
        }
      },
      "source": [
        "rf=RandomForestClassifier(max_features='sqrt',max_depth=10,n_estimators=120)\n",
        "rf.fit(X_train,y_train)\n",
        "predi=rf.predict_proba(X_test)[:,1]\n",
        "fpr1, tpr1, thresholds1 = metrics.roc_curve(y_test, predi)\n",
        "pred=rf.predict_proba(X_train)[:,1]\n",
        "fpr2,tpr2,thresholds2=metrics.roc_curve(y_train,pred)\n",
        "fig = plt.figure()\n",
        "ax = plt.subplot(111)\n",
        "ax.plot(fpr1, tpr1, label='Test ROC ,auc='+str(roc_auc_score(y_test,predi)))\n",
        "ax.plot(fpr2, tpr2, label='Train ROC ,auc='+str(roc_auc_score(y_train,pred)))\n",
        "plt.title('ROC')\n",
        "plt.xlabel('FPR')\n",
        "plt.ylabel('TPR')\n",
        "ax.legend()\n",
        "plt.show()"
      ],
      "execution_count": 0,
      "outputs": [
        {
          "output_type": "display_data",
          "data": {
            "image/png": "[encoded data removed]",
            "text/plain": [
              "<Figure size 432x288 with 1 Axes>"
            ]
          },
          "metadata": {
            "tags": []
          }
        }
      ]
    },
    {
      "cell_type": "markdown",
      "metadata": {
        "id": "oRXDTb1SwKXb",
        "colab_type": "text"
      },
      "source": [
        "#CONFUSION MATRIX(RF)"
      ]
    },
    {
      "cell_type": "code",
      "metadata": {
        "id": "dvQLtg6SxuJG",
        "colab_type": "code",
        "outputId": "414861de-baf9-4902-993a-1c725c9892b2",
        "colab": {
          "base_uri": "https://localhost:8080/",
          "height": 300
        }
      },
      "source": [
        "from sklearn.metrics import confusion_matrix\n",
        "\n",
        "predic=rf.predict(X_train)\n",
        "import seaborn as sns\n",
        "conf_mat = confusion_matrix(y_train, predic)\n",
        "class_label = [\"negative\", \"positive\"]\n",
        "df = pd.DataFrame(conf_mat, index = class_label, columns = class_label)\n",
        "sns.heatmap(df, annot = True,fmt=\"d\")\n",
        "plt.title(\"Confusion Matrix for train data\")\n",
        "plt.xlabel(\"Predicted Label\")\n",
        "plt.ylabel(\"True Label\")\n",
        "plt.show()"
      ],
      "execution_count": 0,
      "outputs": [
        {
          "output_type": "display_data",
          "data": {
            "image/png": "[encoded data removed]",
            "text/plain": [
              "<Figure size 432x288 with 2 Axes>"
            ]
          },
          "metadata": {
            "tags": []
          }
        }
      ]
    },
    {
      "cell_type": "code",
      "metadata": {
        "id": "A8GIIEmbyLSU",
        "colab_type": "code",
        "outputId": "48f38b5e-825e-4259-919c-6ac2c2dbb099",
        "colab": {
          "base_uri": "https://localhost:8080/",
          "height": 300
        }
      },
      "source": [
        "from sklearn.metrics import confusion_matrix\n",
        "\n",
        "predic=rf.predict(X_test)\n",
        "import seaborn as sns\n",
        "conf_mat = confusion_matrix(y_test, predic)\n",
        "class_label = [\"negative\", \"positive\"]\n",
        "df = pd.DataFrame(conf_mat, index = class_label, columns = class_label)\n",
        "sns.heatmap(df, annot = True,fmt=\"d\")\n",
        "plt.title(\"Confusion Matrix for test data\")\n",
        "plt.xlabel(\"Predicted Label\")\n",
        "plt.ylabel(\"True Label\")\n",
        "plt.show()"
      ],
      "execution_count": 0,
      "outputs": [
        {
          "output_type": "display_data",
          "data": {
            "image/png": "[encoded data removed]",
            "text/plain": [
              "<Figure size 432x288 with 2 Axes>"
            ]
          },
          "metadata": {
            "tags": []
          }
        }
      ]
    },
    {
      "cell_type": "code",
      "metadata": {
        "id": "K1NwI4GzyPha",
        "colab_type": "code",
        "outputId": "d437adf8-94ab-4efe-a738-fb0dd30b19f3",
        "colab": {
          "base_uri": "https://localhost:8080/",
          "height": 187
        }
      },
      "source": [
        "print('Support Vector Classifier:')\n",
        "print(classification_report(y_test, predic))"
      ],
      "execution_count": 0,
      "outputs": [
        {
          "output_type": "stream",
          "text": [
            "Support Vector Classifier:\n",
            "              precision    recall  f1-score   support\n",
            "\n",
            "          -1       0.60      0.21      0.32      8773\n",
            "           1       0.55      0.87      0.68      9757\n",
            "\n",
            "    accuracy                           0.56     18530\n",
            "   macro avg       0.58      0.54      0.50     18530\n",
            "weighted avg       0.58      0.56      0.51     18530\n",
            "\n"
          ],
          "name": "stdout"
        }
      ]
    },
    {
      "cell_type": "markdown",
      "metadata": {
        "id": "tVSxfKkHvRaG",
        "colab_type": "text"
      },
      "source": [
        "# XGBOOST MODEL"
      ]
    },
    {
      "cell_type": "code",
      "metadata": {
        "id": "BUWFZcBAynmp",
        "colab_type": "code",
        "colab": {}
      },
      "source": [
        "from sklearn.model_selection import GridSearchCV"
      ],
      "execution_count": 0,
      "outputs": []
    },
    {
      "cell_type": "code",
      "metadata": {
        "id": "Xa55nUSW2p0x",
        "colab_type": "code",
        "colab": {}
      },
      "source": [
        "from xgboost import XGBClassifier"
      ],
      "execution_count": 0,
      "outputs": []
    },
    {
      "cell_type": "code",
      "metadata": {
        "id": "5PbPgJjv2p4Y",
        "colab_type": "code",
        "outputId": "22668a0d-200d-48fe-e1ea-c33d8ae089cb",
        "colab": {
          "base_uri": "https://localhost:8080/",
          "height": 51
        }
      },
      "source": [
        "\n",
        "base_learners = [20,40,60,80,100,120]\n",
        "depths=[1,5,10,50,100,500,1000]\n",
        "param_grid={'n_estimators': base_learners, 'max_depth':depths}\n",
        "clfxgb = XGBClassifier(booster='gbtree')\n",
        "modelxgb=GridSearchCV(estimator = clfxgb,param_grid=param_grid ,cv = 3,scoring='roc_auc',return_train_score=True)\n",
        "modelxgb.fit(X_train,y_train)\n",
        "print('optimal depth : ',modelxgb.best_estimator_.max_depth)\n",
        "print('optimal n_estimator : ',modelxgb.best_estimator_.n_estimators)"
      ],
      "execution_count": 0,
      "outputs": [
        {
          "output_type": "stream",
          "text": [
            "optimal depth :  5\n",
            "optimal n_estimator :  120\n"
          ],
          "name": "stdout"
        }
      ]
    },
    {
      "cell_type": "code",
      "metadata": {
        "id": "7LJGEXCh2qrF",
        "colab_type": "code",
        "outputId": "9f8fe98a-bb0d-4362-c062-c98d403ccf01",
        "colab": {
          "base_uri": "https://localhost:8080/",
          "height": 300
        }
      },
      "source": [
        "import seaborn as sns\n",
        "X=[]\n",
        "Y=[]\n",
        "Z=[]\n",
        "Zt=[]\n",
        "for bl in base_learners:\n",
        "    for d in depths:\n",
        "        xgb=XGBClassifier(booster='gbtree',max_depth=d,n_estimators=bl)\n",
        "        xgb.fit(X_train,y_train)\n",
        "        pred=xgb.predict_proba(X_cv)[:,1]\n",
        "        predt=xgb.predict_proba(X_train)[:,1]\n",
        "        X.append(bl)\n",
        "        Y.append(d)\n",
        "        Z.append(roc_auc_score(y_cv,pred))\n",
        "        Zt.append(roc_auc_score(y_train,predt))\n",
        "        \n",
        "data = pd.DataFrame({'n_estimators': X, 'max_depth': Y, 'AUC': Z})\n",
        "data_pivoted = data.pivot(\"n_estimators\", \"max_depth\", \"AUC\")\n",
        "ax = sns.heatmap(data_pivoted,annot=True)\n",
        "plt.title('Heatmap for cross validation data')\n",
        "plt.show()"
      ],
      "execution_count": 0,
      "outputs": [
        {
          "output_type": "display_data",
          "data": {
            "image/png": "[encoded data removed]",
            "text/plain": [
              "<Figure size 432x288 with 2 Axes>"
            ]
          },
          "metadata": {
            "tags": []
          }
        }
      ]
    },
    {
      "cell_type": "code",
      "metadata": {
        "id": "wtWmxcCD2xeP",
        "colab_type": "code",
        "outputId": "e1440d46-8478-4278-83ba-bd6efbf9eefe",
        "colab": {
          "base_uri": "https://localhost:8080/",
          "height": 300
        }
      },
      "source": [
        "data = pd.DataFrame({'n_estimators': X, 'max_depth': Y, 'AUC': Zt})\n",
        "data_pivoted = data.pivot(\"n_estimators\", \"max_depth\", \"AUC\")\n",
        "ax = sns.heatmap(data_pivoted,annot=True)\n",
        "plt.title('Heatmap for train data')\n",
        "plt.show()"
      ],
      "execution_count": 0,
      "outputs": [
        {
          "output_type": "display_data",
          "data": {
            "image/png": "[encoded data removed]",
            "text/plain": [
              "<Figure size 432x288 with 2 Axes>"
            ]
          },
          "metadata": {
            "tags": []
          }
        }
      ]
    },
    {
      "cell_type": "code",
      "metadata": {
        "id": "V847GHLT2069",
        "colab_type": "code",
        "outputId": "db9a693d-4c9e-4026-d71a-433ab1a76f8a",
        "colab": {
          "base_uri": "https://localhost:8080/",
          "height": 341
        }
      },
      "source": [
        "train_auc= modelxgb.cv_results_['mean_train_score']\n",
        "train_auc_std = modelxgb.cv_results_['std_train_score']\n",
        "test_auc = modelxgb.cv_results_['mean_test_score']\n",
        "test_auc_std = modelxgb.cv_results_['std_test_score']\n",
        "#Output of GridSearchCV\n",
        "print('Best score: ',modelxgb.best_score_)\n",
        "print('Best Hyper parameters: ',modelxgb.best_params_)\n",
        "print('='*75)\n",
        "print('Train AUC scores')\n",
        "print(modelxgb.cv_results_['mean_train_score'])\n",
        "print('CV AUC scores')\n",
        "print(modelxgb.cv_results_['mean_test_score'])"
      ],
      "execution_count": 0,
      "outputs": [
        {
          "output_type": "stream",
          "text": [
            "Best score:  0.5844338021596039\n",
            "Best Hyper parameters:  {'max_depth': 5, 'n_estimators': 120}\n",
            "===========================================================================\n",
            "Train AUC scores\n",
            "[0.58246138 0.60554659 0.61673181 0.62509767 0.63071608 0.63597193\n",
            " 0.72580757 0.77989668 0.81477782 0.83849038 0.85802946 0.87241493\n",
            " 0.86010355 0.91989224 0.95000094 0.9672189  0.98014551 0.98715705\n",
            " 0.99925613 0.99999853 1.         1.         1.         1.\n",
            " 0.9995991  0.99999985 1.         1.         1.         1.\n",
            " 0.9995991  0.99999985 1.         1.         1.         1.\n",
            " 0.9995991  0.99999985 1.         1.         1.         1.        ]\n",
            "CV AUC scores\n",
            "[0.53683649 0.54824477 0.55462261 0.55761713 0.56183446 0.56476932\n",
            " 0.55750658 0.57220047 0.57744081 0.57976576 0.58146746 0.5844338\n",
            " 0.56357272 0.57153651 0.57433329 0.57703615 0.57742746 0.57701849\n",
            " 0.56453407 0.57375093 0.57329282 0.57516979 0.57606541 0.57720944\n",
            " 0.56242205 0.56785003 0.57133161 0.5715519  0.57244464 0.57304176\n",
            " 0.56242205 0.56785003 0.57133161 0.5715519  0.57244464 0.57304176\n",
            " 0.56242205 0.56785003 0.57133161 0.5715519  0.57244464 0.57304176]\n"
          ],
          "name": "stdout"
        }
      ]
    },
    {
      "cell_type": "markdown",
      "metadata": {
        "id": "n5Vol0qOwdGf",
        "colab_type": "text"
      },
      "source": [
        "# ROC CURVE(XGBOOST)"
      ]
    },
    {
      "cell_type": "code",
      "metadata": {
        "id": "TM9wFENNjj-g",
        "colab_type": "code",
        "colab": {}
      },
      "source": [
        "from sklearn.metrics import accuracy_score\n",
        "from sklearn import model_selection\n",
        "from sklearn.metrics import roc_auc_score\n",
        "from sklearn.model_selection  import train_test_split\n",
        "from sklearn.metrics import accuracy_score\n",
        "from sklearn.model_selection  import cross_val_score\n",
        "from collections import Counter\n",
        "import sklearn.metrics as metrics"
      ],
      "execution_count": 0,
      "outputs": []
    },
    {
      "cell_type": "markdown",
      "metadata": {
        "id": "r9AazybFwga9",
        "colab_type": "text"
      },
      "source": [
        "# CONFUSION MATRIX (XGBOOST)"
      ]
    },
    {
      "cell_type": "code",
      "metadata": {
        "id": "ggLCXZhft5ON",
        "colab_type": "code",
        "outputId": "70e6e95d-17c8-4f33-8c31-eed44b1c4cbb",
        "colab": {
          "base_uri": "https://localhost:8080/",
          "height": 300
        }
      },
      "source": [
        "xgbm=XGBClassifier(booster='gbtree',max_depth=5,n_estimators=120)\n",
        "xgbm.fit(X_train,y_train)\n",
        "predi=xgbm.predict_proba(X_test)[:,1]\n",
        "fpr1, tpr1, thresholds1 = metrics.roc_curve(y_test, predi)\n",
        "pred=xgbm.predict_proba(X_train)[:,1]\n",
        "fpr2,tpr2,thresholds2=metrics.roc_curve(y_train,pred)\n",
        "fig = plt.figure()\n",
        "ax = plt.subplot(111)\n",
        "ax.plot(fpr1, tpr1, label='Test ROC ,auc='+str(roc_auc_score(y_test,predi)))\n",
        "ax.plot(fpr2, tpr2, label='Train ROC ,auc='+str(roc_auc_score(y_train,pred)))\n",
        "plt.title('ROC')\n",
        "plt.xlabel('FPR')\n",
        "plt.ylabel('TPR')\n",
        "ax.legend()\n",
        "plt.show()"
      ],
      "execution_count": 0,
      "outputs": [
        {
          "output_type": "display_data",
          "data": {
            "image/png": "[encoded data removed]",
            "text/plain": [
              "<Figure size 432x288 with 1 Axes>"
            ]
          },
          "metadata": {
            "tags": []
          }
        }
      ]
    },
    {
      "cell_type": "code",
      "metadata": {
        "id": "1DWLcFJbuRND",
        "colab_type": "code",
        "outputId": "c0a7019b-d7b9-46a3-ca22-f75cd5c3290f",
        "colab": {
          "base_uri": "https://localhost:8080/",
          "height": 300
        }
      },
      "source": [
        "from sklearn.metrics import confusion_matrix\n",
        "\n",
        "predict=xgbm.predict(X_test)\n",
        "import seaborn as sns\n",
        "conf_mat = confusion_matrix(y_test, predict)\n",
        "class_label = [\"negative\", \"positive\"]\n",
        "df = pd.DataFrame(conf_mat, index = class_label, columns = class_label)\n",
        "sns.heatmap(df, annot = True,fmt=\"d\")\n",
        "plt.title(\"Confusion Matrix for test data\")\n",
        "plt.xlabel(\"Predicted Label\")\n",
        "plt.ylabel(\"True Label\")\n",
        "plt.show()"
      ],
      "execution_count": 0,
      "outputs": [
        {
          "output_type": "display_data",
          "data": {
            "image/png": "[encoded data removed]",
            "text/plain": [
              "<Figure size 432x288 with 2 Axes>"
            ]
          },
          "metadata": {
            "tags": []
          }
        }
      ]
    },
    {
      "cell_type": "code",
      "metadata": {
        "id": "Hf9kMSQyugH_",
        "colab_type": "code",
        "outputId": "8f009ac0-1951-49d0-aca4-8bfe028d2394",
        "colab": {
          "base_uri": "https://localhost:8080/",
          "height": 187
        }
      },
      "source": [
        "print('Support Vector Classifier:')\n",
        "print(classification_report(y_test, predict))"
      ],
      "execution_count": 0,
      "outputs": [
        {
          "output_type": "stream",
          "text": [
            "Support Vector Classifier:\n",
            "              precision    recall  f1-score   support\n",
            "\n",
            "          -1       0.52      0.44      0.48       947\n",
            "           1       0.56      0.63      0.59      1053\n",
            "\n",
            "    accuracy                           0.54      2000\n",
            "   macro avg       0.54      0.54      0.53      2000\n",
            "weighted avg       0.54      0.54      0.54      2000\n",
            "\n"
          ],
          "name": "stdout"
        }
      ]
    },
    {
      "cell_type": "markdown",
      "metadata": {
        "id": "MFZ7FJC9wrE8",
        "colab_type": "text"
      },
      "source": [
        "#NEURAL NETWORK"
      ]
    },
    {
      "cell_type": "markdown",
      "metadata": {
        "id": "4PIoycXewvor",
        "colab_type": "text"
      },
      "source": [
        "##SCALING"
      ]
    },
    {
      "cell_type": "code",
      "metadata": {
        "id": "tEgQBfvejP62",
        "colab_type": "code",
        "colab": {}
      },
      "source": [
        "# Since most of our data has already been scaled we should scale the columns that are left to scale (Amount and Time)\n",
        "from sklearn.preprocessing import StandardScaler, RobustScaler\n",
        "\n",
        "# RobustScaler is less prone to outliers.\n",
        "\n",
        "std_scaler = StandardScaler()\n",
        "rob_scaler = RobustScaler()\n",
        "\n",
        "X_train = rob_scaler.fit_transform(X_train)\n",
        "\n",
        "\n"
      ],
      "execution_count": 0,
      "outputs": []
    },
    {
      "cell_type": "code",
      "metadata": {
        "id": "z15gO2iaumZE",
        "colab_type": "code",
        "outputId": "7cba240a-a4e8-412e-ebb8-aa64e9c97f20",
        "colab": {
          "base_uri": "https://localhost:8080/",
          "height": 34
        }
      },
      "source": [
        "import keras\n",
        "from keras import backend as K\n",
        "from keras.models import Sequential\n",
        "from keras.layers import Activation\n",
        "from keras.layers.core import Dense\n",
        "from keras.optimizers import Adam\n",
        "from keras.metrics import categorical_crossentropy\n",
        "\n",
        "n_inputs = X_train.shape[1]\n",
        "\n",
        "from keras.layers import Dropout\n",
        "\n",
        "model=Sequential()\n",
        "model.add(Dense(1028, input_dim=n_inputs, activation=\"relu\"))\n",
        "model.add(Dropout(0.5))\n",
        "model.add(Dense(512, activation=\"relu\"))\n",
        "model.add(Dropout(0.5))\n",
        "model.add(Dense(128, activation=\"relu\"))\n",
        "model.add(Dropout(0.5))\n",
        "model.add(Dense(32, activation=\"relu\"))\n",
        "model.add(Dense(2, activation=\"softmax\"))"
      ],
      "execution_count": 0,
      "outputs": [
        {
          "output_type": "stream",
          "text": [
            "Using TensorFlow backend.\n"
          ],
          "name": "stderr"
        }
      ]
    },
    {
      "cell_type": "code",
      "metadata": {
        "id": "vtspJ90pwKaN",
        "colab_type": "code",
        "colab": {}
      },
      "source": [
        "model.compile(Adam(lr=0.001), loss='sparse_categorical_crossentropy', metrics=['accuracy'])"
      ],
      "execution_count": 0,
      "outputs": []
    },
    {
      "cell_type": "code",
      "metadata": {
        "id": "vdrhoEOuwQvz",
        "colab_type": "code",
        "outputId": "fe6e4b6a-e471-4392-e094-2892e8fd430a",
        "colab": {
          "base_uri": "https://localhost:8080/",
          "height": 733
        }
      },
      "source": [
        "model.fit(X_train, y_train, validation_split=0.2, batch_size=25, epochs=20, shuffle=True, verbose=2)"
      ],
      "execution_count": 0,
      "outputs": [
        {
          "output_type": "stream",
          "text": [
            "Train on 47436 samples, validate on 11859 samples\n",
            "Epoch 1/20\n",
            " - 22s - loss: 0.6826 - accuracy: 0.5608 - val_loss: 0.6705 - val_accuracy: 0.5863\n",
            "Epoch 2/20\n",
            " - 22s - loss: 0.6684 - accuracy: 0.5948 - val_loss: 0.6710 - val_accuracy: 0.5957\n",
            "Epoch 3/20\n",
            " - 22s - loss: 0.6646 - accuracy: 0.6028 - val_loss: 0.6688 - val_accuracy: 0.5974\n",
            "Epoch 4/20\n",
            " - 22s - loss: 0.6605 - accuracy: 0.6084 - val_loss: 0.6670 - val_accuracy: 0.6004\n",
            "Epoch 5/20\n",
            " - 22s - loss: 0.6560 - accuracy: 0.6135 - val_loss: 0.6671 - val_accuracy: 0.5949\n",
            "Epoch 6/20\n",
            " - 22s - loss: 0.6497 - accuracy: 0.6219 - val_loss: 0.6665 - val_accuracy: 0.5984\n",
            "Epoch 7/20\n",
            " - 22s - loss: 0.6428 - accuracy: 0.6281 - val_loss: 0.6692 - val_accuracy: 0.5943\n",
            "Epoch 8/20\n",
            " - 22s - loss: 0.6362 - accuracy: 0.6352 - val_loss: 0.6705 - val_accuracy: 0.5915\n",
            "Epoch 9/20\n",
            " - 22s - loss: 0.6258 - accuracy: 0.6459 - val_loss: 0.6749 - val_accuracy: 0.5815\n",
            "Epoch 10/20\n",
            " - 22s - loss: 0.6191 - accuracy: 0.6498 - val_loss: 0.6758 - val_accuracy: 0.5909\n",
            "Epoch 11/20\n",
            " - 22s - loss: 0.6092 - accuracy: 0.6562 - val_loss: 0.6843 - val_accuracy: 0.5829\n",
            "Epoch 12/20\n",
            " - 21s - loss: 0.6016 - accuracy: 0.6651 - val_loss: 0.6864 - val_accuracy: 0.5758\n",
            "Epoch 13/20\n",
            " - 22s - loss: 0.5930 - accuracy: 0.6701 - val_loss: 0.6867 - val_accuracy: 0.5844\n",
            "Epoch 14/20\n",
            " - 22s - loss: 0.5835 - accuracy: 0.6773 - val_loss: 0.6931 - val_accuracy: 0.5787\n",
            "Epoch 15/20\n",
            " - 22s - loss: 0.5734 - accuracy: 0.6867 - val_loss: 0.7128 - val_accuracy: 0.5716\n",
            "Epoch 16/20\n",
            " - 22s - loss: 0.5679 - accuracy: 0.6890 - val_loss: 0.7146 - val_accuracy: 0.5735\n",
            "Epoch 17/20\n",
            " - 22s - loss: 0.5588 - accuracy: 0.6966 - val_loss: 0.7144 - val_accuracy: 0.5687\n",
            "Epoch 18/20\n",
            " - 22s - loss: 0.5474 - accuracy: 0.7047 - val_loss: 0.7397 - val_accuracy: 0.5738\n",
            "Epoch 19/20\n",
            " - 22s - loss: 0.5415 - accuracy: 0.7098 - val_loss: 0.7259 - val_accuracy: 0.5679\n",
            "Epoch 20/20\n",
            " - 21s - loss: 0.5354 - accuracy: 0.7165 - val_loss: 0.7494 - val_accuracy: 0.5671\n"
          ],
          "name": "stdout"
        },
        {
          "output_type": "execute_result",
          "data": {
            "text/plain": [
              "<keras.callbacks.callbacks.History at 0x7f9aea10cda0>"
            ]
          },
          "metadata": {
            "tags": []
          },
          "execution_count": 23
        }
      ]
    },
    {
      "cell_type": "code",
      "metadata": {
        "id": "-l-MWLRTpnez",
        "colab_type": "code",
        "colab": {}
      },
      "source": [
        "predictions = model.predict(X_test, batch_size=200, verbose=0)"
      ],
      "execution_count": 0,
      "outputs": []
    },
    {
      "cell_type": "code",
      "metadata": {
        "id": "SlgjalvEpoLb",
        "colab_type": "code",
        "colab": {}
      },
      "source": [
        "win_predictions = model.predict_classes(X_test, batch_size=200, verbose=0)"
      ],
      "execution_count": 0,
      "outputs": []
    },
    {
      "cell_type": "code",
      "metadata": {
        "id": "f0t7QPlYwWvV",
        "colab_type": "code",
        "colab": {}
      },
      "source": [
        "import itertools\n",
        "\n",
        "# Create a confusion matrix\n",
        "def plot_confusion_matrix(cm, classes,\n",
        "                          normalize=False,\n",
        "                          title='Confusion matrix',\n",
        "                          cmap=plt.cm.Blues):\n",
        "    \"\"\"\n",
        "    This function prints and plots the confusion matrix.\n",
        "    Normalization can be applied by setting `normalize=True`.\n",
        "    \"\"\"\n",
        "    if normalize:\n",
        "        cm = cm.astype('float') / cm.sum(axis=1)[:, np.newaxis]\n",
        "        print(\"Normalized confusion matrix\")\n",
        "    else:\n",
        "        print('Confusion matrix, without normalization')\n",
        "\n",
        "    print(cm)\n",
        "\n",
        "    plt.imshow(cm, interpolation='nearest', cmap=cmap)\n",
        "    plt.title(title, fontsize=14)\n",
        "    plt.colorbar()\n",
        "    tick_marks = np.arange(len(classes))\n",
        "    plt.xticks(tick_marks, classes, rotation=45)\n",
        "    plt.yticks(tick_marks, classes)\n",
        "\n",
        "    fmt = '.2f' if normalize else 'd'\n",
        "    thresh = cm.max() / 2.\n",
        "    for i, j in itertools.product(range(cm.shape[0]), range(cm.shape[1])):\n",
        "        plt.text(j, i, format(cm[i, j], fmt),\n",
        "                 horizontalalignment=\"center\",\n",
        "                 color=\"white\" if cm[i, j] > thresh else \"black\")\n",
        "\n",
        "    plt.tight_layout()\n",
        "    plt.ylabel('True label')\n",
        "    plt.xlabel('Predicted label')"
      ],
      "execution_count": 0,
      "outputs": []
    },
    {
      "cell_type": "markdown",
      "metadata": {
        "id": "-tIteWzmw4CD",
        "colab_type": "text"
      },
      "source": [
        "# CONFUSION MATRIX NEURAL NETWork"
      ]
    },
    {
      "cell_type": "code",
      "metadata": {
        "id": "dlKbOxabo2oD",
        "colab_type": "code",
        "outputId": "67745fb5-7e56-431c-8d23-957423ff95dd",
        "colab": {
          "base_uri": "https://localhost:8080/",
          "height": 452
        }
      },
      "source": [
        "cm = confusion_matrix(y_test, win_predictions)\n",
        "actual_cm = confusion_matrix(y_test, y_test)\n",
        "labels = ['loss', 'win']\n",
        "\n",
        "fig = plt.figure(figsize=(16,8))\n",
        "\n",
        "fig.add_subplot(221)\n",
        "plot_confusion_matrix(cm, labels, title=\" \\n Confusion Matrix\", cmap=plt.cm.Reds)\n",
        "\n",
        "fig.add_subplot(222)\n",
        "plot_confusion_matrix(actual_cm, labels, title=\"Confusion Matrix \\n (with 100% accuracy)\", cmap=plt.cm.Greens)"
      ],
      "execution_count": 0,
      "outputs": [
        {
          "output_type": "stream",
          "text": [
            "Confusion matrix, without normalization\n",
            "[[4680 4093]\n",
            " [4067 5690]]\n",
            "Confusion matrix, without normalization\n",
            "[[8773    0]\n",
            " [   0 9757]]\n"
          ],
          "name": "stdout"
        },
        {
          "output_type": "display_data",
          "data": {
            "image/png": "[encoded data removed]",
            "text/plain": [
              "<Figure size 1152x576 with 4 Axes>"
            ]
          },
          "metadata": {
            "tags": []
          }
        }
      ]
    },
    {
      "cell_type": "code",
      "metadata": {
        "id": "0lR_iNEvpysp",
        "colab_type": "code",
        "colab": {}
      },
      "source": [
        ""
      ],
      "execution_count": 0,
      "outputs": []
    },
    {
      "cell_type": "markdown",
      "metadata": {
        "id": "t90OziKqw9I_",
        "colab_type": "text"
      },
      "source": [
        "# TABLE OF SCORES"
      ]
    },
    {
      "cell_type": "code",
      "metadata": {
        "id": "CYSE4Mthw_PC",
        "colab_type": "code",
        "colab": {
          "base_uri": "https://localhost:8080/",
          "height": 204
        },
        "outputId": "233bbacc-47c1-4980-be5a-803600340f03"
      },
      "source": [
        "\n",
        "from prettytable import PrettyTable\n",
        "    \n",
        "x = PrettyTable()\n",
        "\n",
        "x.field_names = [\"ALGORITHM\", \"VAL ACCURACY(in %\"]\n",
        "\n",
        "x.add_row([\"Logistic Regression\", 58.62])\n",
        "x.add_row([\"KNN\", 51.86])\n",
        "x.add_row([\"Support Vector Machine\", 58.2])\n",
        "x.add_row([\"Decision Tree\", 52.94])\n",
        "x.add_row([\"Random Forest\", 60.09])\n",
        "x.add_row([\"XgBoost\", 58.44])\n",
        "x.add_row([\"Neural Network\", 60.04])\n",
        "\n",
        "print(x)"
      ],
      "execution_count": 3,
      "outputs": [
        {
          "output_type": "stream",
          "text": [
            "+------------------------+-------------------+\n",
            "|       ALGORITHM        | VAL ACCURACY(in % |\n",
            "+------------------------+-------------------+\n",
            "|  Logistic Regression   |       58.62       |\n",
            "|          KNN           |       51.86       |\n",
            "| Support Vector Machine |        58.2       |\n",
            "|     Decision Tree      |       52.94       |\n",
            "|     Random Forest      |       60.09       |\n",
            "|        XgBoost         |       58.44       |\n",
            "|     Neural Network     |       60.04       |\n",
            "+------------------------+-------------------+\n"
          ],
          "name": "stdout"
        }
      ]
    },
    {
      "cell_type": "code",
      "metadata": {
        "id": "3DuVRf8j40aM",
        "colab_type": "code",
        "colab": {}
      },
      "source": [
        ""
      ],
      "execution_count": 0,
      "outputs": []
    }
  ]
}